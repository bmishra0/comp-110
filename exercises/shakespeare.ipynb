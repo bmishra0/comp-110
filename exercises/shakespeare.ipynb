{
 "cells": [
  {
   "cell_type": "markdown",
   "metadata": {},
   "source": [
    "# Quantifying Shakespeare\n",
    "what are the frequency of letters shakespeare used in thier completed works?\n",
    "\n",
    "first, we're going to load all of lines of data from our text input."
   ]
  },
  {
   "cell_type": "code",
   "execution_count": 2,
   "metadata": {},
   "outputs": [
    {
     "data": {
      "text/plain": [
       "196043"
      ]
     },
     "execution_count": 2,
     "metadata": {},
     "output_type": "execute_result"
    }
   ],
   "source": [
    "file_handle = open(\"shakespeare.txt\", \"r\", encoding=\"utf8\")\n",
    "lines: list[str] = file_handle.readlines()\n",
    "file_handle.close()\n",
    "\n",
    "len(lines)"
   ]
  },
  {
   "cell_type": "markdown",
   "metadata": {},
   "source": [
    "let's sanitize the data, creating a new list pf \"clean_lines\" where the only data in each line is lowercase letters."
   ]
  },
  {
   "cell_type": "code",
   "execution_count": 14,
   "metadata": {},
   "outputs": [
    {
     "data": {
      "text/plain": [
       "''"
      ]
     },
     "execution_count": 14,
     "metadata": {},
     "output_type": "execute_result"
    }
   ],
   "source": [
    "clean_lines: list[str] = []\n",
    "for line in lines:\n",
    "    clean_line: str = \"\"\n",
    "    for character in line:\n",
    "        if character.isalpha():\n",
    "            clean_line += character\n",
    "        else:\n",
    "            ... #ignore!\n",
    "    clean_line = clean_line.lower()\n",
    "    clean_lines.append(clean_line)\n",
    "clean_lines[100]"
   ]
  },
  {
   "cell_type": "markdown",
   "metadata": {},
   "source": [
    "Let's count the frequencies of all character vlaues in shakespeare. "
   ]
  },
  {
   "cell_type": "code",
   "execution_count": 13,
   "metadata": {},
   "outputs": [
    {
     "data": {
      "text/plain": [
       "{'t': 354861,\n",
       " 'h': 256682,\n",
       " 'e': 485980,\n",
       " 'p': 61524,\n",
       " 'r': 252682,\n",
       " 'o': 332974,\n",
       " 'j': 4944,\n",
       " 'c': 91874,\n",
       " 'g': 72777,\n",
       " 'u': 137348,\n",
       " 'n': 261457,\n",
       " 'b': 64103,\n",
       " 'k': 37871,\n",
       " 'f': 86092,\n",
       " 'm': 118049,\n",
       " 'l': 181223,\n",
       " 'w': 96196,\n",
       " 's': 268347,\n",
       " 'i': 271085,\n",
       " 'a': 311224,\n",
       " 'y': 99465,\n",
       " 'd': 159330,\n",
       " 'v': 40436,\n",
       " 'x': 5403,\n",
       " 'z': 1795,\n",
       " 'q': 4000,\n",
       " 'æ': 71,\n",
       " 'œ': 17,\n",
       " 'à': 18,\n",
       " 'é': 53,\n",
       " 'è': 38,\n",
       " 'â': 2,\n",
       " 'ç': 52,\n",
       " 'î': 2,\n",
       " 'ê': 6,\n",
       " 'ë': 4}"
      ]
     },
     "execution_count": 13,
     "metadata": {},
     "output_type": "execute_result"
    }
   ],
   "source": [
    "frequencies: dict[str, int] = {}\n",
    "\n",
    "for line in clean_lines:\n",
    "    for character in line:\n",
    "        if character in frequencies:\n",
    "            frequencies[character] += 1\n",
    "        else:\n",
    "            frequencies[character] = 1\n",
    "\n",
    "frequencies"
   ]
  },
  {
   "cell_type": "markdown",
   "metadata": {},
   "source": [
    "## computing the total number of characters\n"
   ]
  },
  {
   "cell_type": "code",
   "execution_count": 19,
   "metadata": {},
   "outputs": [
    {
     "name": "stdout",
     "output_type": "stream",
     "text": [
      "4057985\n",
      "37871\n",
      "0.009332464264899944\n"
     ]
    }
   ],
   "source": [
    "total_alpha_character: int = 0\n",
    "\n",
    "for line in clean_lines:\n",
    "    total_alpha_character += len(line)\n",
    "\n",
    "print(total_alpha_character)\n",
    "\n",
    "print(frequencies[\"k\"])\n",
    "\n",
    "print(frequencies[\"k\"] / total_alpha_character)"
   ]
  }
 ],
 "metadata": {
  "kernelspec": {
   "display_name": "Python 3",
   "language": "python",
   "name": "python3"
  },
  "language_info": {
   "codemirror_mode": {
    "name": "ipython",
    "version": 3
   },
   "file_extension": ".py",
   "mimetype": "text/x-python",
   "name": "python",
   "nbconvert_exporter": "python",
   "pygments_lexer": "ipython3",
   "version": "3.12.4"
  }
 },
 "nbformat": 4,
 "nbformat_minor": 2
}
